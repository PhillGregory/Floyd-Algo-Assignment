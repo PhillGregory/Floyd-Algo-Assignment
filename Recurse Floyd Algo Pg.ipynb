{
  "nbformat": 4,
  "nbformat_minor": 0,
  "metadata": {
    "colab": {
      "provenance": [],
      "collapsed_sections": [],
      "authorship_tag": "ABX9TyNucQa70pPDfowFivrhGd7a",
      "include_colab_link": true
    },
    "kernelspec": {
      "name": "python3",
      "display_name": "Python 3"
    },
    "language_info": {
      "name": "python"
    }
  },
  "cells": [
    {
      "cell_type": "markdown",
      "metadata": {
        "id": "view-in-github",
        "colab_type": "text"
      },
      "source": [
        "<a href=\"https://colab.research.google.com/github/PhillipGregory/Floyd-Algo-Assignment/blob/main/Recurse%20Floyd%20Algo%20Pg.ipynb\" target=\"_parent\"><img src=\"https://colab.research.google.com/assets/colab-badge.svg\" alt=\"Open In Colab\"/></a>"
      ]
    },
    {
      "cell_type": "code",
      "execution_count": 2,
      "metadata": {
        "colab": {
          "base_uri": "https://localhost:8080/",
          "height": 198
        },
        "id": "lYWsWOrzroaW",
        "outputId": "0ed0bcb7-ad9e-439c-92c9-14ece9a823ab"
      },
      "outputs": [
        {
          "output_type": "error",
          "ename": "NameError",
          "evalue": "ignored",
          "traceback": [
            "\u001b[0;31m---------------------------------------------------------------------------\u001b[0m",
            "\u001b[0;31mNameError\u001b[0m                                 Traceback (most recent call last)",
            "\u001b[0;32m<ipython-input-2-c1583658b97f>\u001b[0m in \u001b[0;36m<module>\u001b[0;34m\u001b[0m\n\u001b[1;32m     50\u001b[0m \u001b[0;31m# Code to drive output\u001b[0m\u001b[0;34m\u001b[0m\u001b[0;34m\u001b[0m\u001b[0;34m\u001b[0m\u001b[0m\n\u001b[1;32m     51\u001b[0m \u001b[0;34m\u001b[0m\u001b[0m\n\u001b[0;32m---> 52\u001b[0;31m \u001b[0mfloyd\u001b[0m\u001b[0;34m(\u001b[0m\u001b[0mk\u001b[0m\u001b[0;34m,\u001b[0m\u001b[0mi\u001b[0m\u001b[0;34m,\u001b[0m\u001b[0mj\u001b[0m\u001b[0;34m)\u001b[0m\u001b[0;34m\u001b[0m\u001b[0;34m\u001b[0m\u001b[0m\n\u001b[0m",
            "\u001b[0;31mNameError\u001b[0m: name 'k' is not defined"
          ]
        }
      ],
      "source": [
        "# Python Recursive version of Floyd Marshall Algorithm\n",
        "import sys\n",
        "\n",
        "# V represents the number of vertices in the graph\n",
        "V = 4\n",
        "\n",
        "# If there is no path between two nodes, the graph states INF\n",
        "INF = sys.maxsize\n",
        "\n",
        "# If the start node is the same as the end node, the distance is 0\n",
        "\n",
        "# This algorithm will find the shortest route between each vertice in the below matrix\n",
        "graph = [[0, 7, INF, 8], [INF, 0, 5, INF], [INF, INF, 0, 2], [INF, INF, INF, 0]]\n",
        "\n",
        "# Algorithm\n",
        "def floyd(k,i,j):\n",
        "  dist = list(map(lambda i: list(map(lambda j: j, i)), graph))\n",
        "  \n",
        "  # Now check each vertice individually using recursion\n",
        "  if k < V:\n",
        "        k+=1\n",
        "        dist[i][j] = min(dist[i][j]), (dist[i][k] + dist[k][j])\n",
        "        return floyd(k,i,j)\n",
        "  elif i < V:\n",
        "        i+=1\n",
        "        dist[i][j] = min(dist[i][j], dist[i][k] + dist[k][j])\n",
        "        return floyd(k,i,j)\n",
        "        pass\n",
        "  elif j < V:\n",
        "        j+=1\n",
        "        dist[i][j] = min(dist[i][j], dist[i][k] + dist[k][j])\n",
        "        return floyd(k,i,j)\n",
        "        pass\n",
        "  sol(dist)\n",
        "\n",
        "# Below is a utility function to print the distance solution\n",
        "def sol(dist):\n",
        "    print(\"Following matrix shows the shortest distances\\ between every pair of vertices\")\n",
        "    if i < V:\n",
        "        i+=1\n",
        "        if(dist[i][j] == INF):\n",
        "            print(\"INF\", end=\" \")\n",
        "    elif j < V:\n",
        "        j+=1\n",
        "        if(dist[i][j] == INF):\n",
        "            print(\"INF\", end=\" \")\n",
        "    else:\n",
        "        print(dist[i][j], end=' ')\n",
        "    print(\" \")\n",
        "\n",
        "# Use below function to call shortest distance matrix\n",
        "\n",
        "floyd(k,i,j)"
      ]
    }
  ]
}